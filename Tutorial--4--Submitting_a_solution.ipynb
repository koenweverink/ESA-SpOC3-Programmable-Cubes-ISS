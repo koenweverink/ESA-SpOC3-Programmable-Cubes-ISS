{
 "cells": [
  {
   "cell_type": "markdown",
   "id": "6b55e370",
   "metadata": {},
   "source": [
    "So you designed your algorithm, got great results and want to take the first place on the optimize leaderboard?\n",
    "\n",
    "Then use the following code to prepare your submission!"
   ]
  },
  {
   "cell_type": "markdown",
   "id": "4501e2a5",
   "metadata": {},
   "source": [
    "#### First, the code that will wrap your chromosome into a submission to the optimize platform\n",
    "\n",
    "You don't have to change anything here, we will just use it."
   ]
  },
  {
   "cell_type": "code",
   "execution_count": 1,
   "id": "d46eaca9",
   "metadata": {},
   "outputs": [],
   "source": [
    "\"\"\" Submission helper to generate a .json-file for submission to optimize.esa.int. \"\"\"\n",
    "import json\n",
    "import numpy\n",
    "import numpy as np\n",
    "\n",
    "def create_submission(challenge_id, problem_id, x, fn_out = './submission.json', name = '', description= ''):\n",
    "    \"\"\" The following parameters are mandatory to create a submission file:\n",
    "\n",
    "        challenge_id: a string of the challenge identifier (found on the corresponding problem page)\n",
    "        problem_id: a string of the problem identifier (found on the corresponding problem page)\n",
    "        x: for single-objective problems: a list of numbers determining the decision vector\n",
    "           for multi-objective problems: a list of list of numbers determining a population of decision vectors\n",
    "\n",
    "        Optionally provide:\n",
    "        fn_out: a string indicating the output path and filename\n",
    "        name: a string that can be used to give your submission a title\n",
    "        description: a string that can contain meta-information about your submission\n",
    "    \"\"\"\n",
    "    assert type(challenge_id) == str\n",
    "    assert type(problem_id) == str\n",
    "    assert type(x) in [list, numpy.ndarray]\n",
    "    assert type(fn_out) == str\n",
    "    assert type(name) == str\n",
    "    assert type(description) == str\n",
    "\n",
    "    # converting numpy datatypes to python datatypes\n",
    "    x = numpy.array(x).tolist()\n",
    "\n",
    "    d = {'decisionVector':x,\n",
    "         'problem':problem_id,\n",
    "         'challenge':challenge_id,\n",
    "         'name':name,\n",
    "         'description':description }\n",
    "\n",
    "    with open(fn_out, 'wt') as json_file:\n",
    "        json.dump([d], json_file, indent = 6)"
   ]
  },
  {
   "cell_type": "markdown",
   "id": "763fe8f7",
   "metadata": {},
   "source": [
    "#### Next, a brief example on how to wrap your solution for the ISS problem\n",
    "\n",
    "Here, we create a random chromosome and then wrap it into a json file which can be uploaded to the optimize platform (https://optimize.esa.int/submit)"
   ]
  },
  {
   "cell_type": "code",
   "execution_count": 2,
   "id": "0611e393",
   "metadata": {},
   "outputs": [
    {
     "name": "stdout",
     "output_type": "stream",
     "text": [
      "[-0.014785420340975892]\n"
     ]
    }
   ],
   "source": [
    "from programmable_cubes_UDP import programmable_cubes_UDP\n",
    "\n",
    "# Create a random chromosome\n",
    "np.random.seed(52123)\n",
    "cubes = 148\n",
    "\n",
    "chromosome = []\n",
    "for i in range(6000):\n",
    "    cID = np.random.randint(cubes)\n",
    "    mID = np.random.randint(6)\n",
    "    chromosome += [cID, mID]\n",
    "chromosome += [-1]\n",
    "# Just for fun, we stop evaluation early after 100 steps\n",
    "chromosome[100] = -1\n",
    "chromosome = np.array(chromosome)\n",
    "\n",
    "# Lets check the fitness\n",
    "udp = programmable_cubes_UDP('ISS')\n",
    "print(udp.fitness(chromosome))\n",
    "\n",
    "# Create a submission\n",
    "create_submission(\"spoc-3-programmable-cubes\",\"iss\", chromosome,\"submission_file.json\",\"submission_name\",\"submission_description\")\n",
    "# You will find the file named 'submission_file.json' in the folder where this ipynb is located. This json file has to be submitted to optimize (see link above)!"
   ]
  },
  {
   "cell_type": "markdown",
   "id": "f19c8e9d",
   "metadata": {},
   "source": [
    "#### Now for JWST"
   ]
  },
  {
   "cell_type": "code",
   "execution_count": 3,
   "id": "0c227568",
   "metadata": {},
   "outputs": [
    {
     "name": "stdout",
     "output_type": "stream",
     "text": [
      "[0.20488888888888887]\n"
     ]
    }
   ],
   "source": [
    "np.random.seed(42)\n",
    "\n",
    "# Create chromosome\n",
    "cubes = 643\n",
    "chromosome = []\n",
    "for i in range(30000):\n",
    "    cID = np.random.randint(cubes)\n",
    "    mID = np.random.randint(6)\n",
    "    chromosome += [cID, mID]\n",
    "chromosome += [-1]\n",
    "chromosome = np.array(chromosome)\n",
    "\n",
    "# Check fitness\n",
    "udp = programmable_cubes_UDP('JWST')\n",
    "print(udp.fitness(chromosome))\n",
    "\n",
    "# Create submission file\n",
    "create_submission(\"spoc-3-programmable-cubes\",\"jwst\", chromosome,\"submission_file.json\",\"submission_name\",\"submission_description\")"
   ]
  },
  {
   "cell_type": "markdown",
   "id": "c052abad",
   "metadata": {},
   "source": [
    "#### And for the Enterprise!"
   ]
  },
  {
   "cell_type": "code",
   "execution_count": 4,
   "id": "e1593869",
   "metadata": {},
   "outputs": [
    {
     "name": "stdout",
     "output_type": "stream",
     "text": [
      "[0.18358763693270727]\n"
     ]
    }
   ],
   "source": [
    "np.random.seed(2242)\n",
    "cubes = 1472\n",
    "\n",
    "# Create chromosome\n",
    "chromosome = []\n",
    "for i in range(100000):\n",
    "    cID = np.random.randint(cubes)\n",
    "    mID = np.random.randint(6)\n",
    "    chromosome += [cID, mID]\n",
    "chromosome += [-1]\n",
    "chromosome = np.array(chromosome)\n",
    "\n",
    "# Check fitness\n",
    "udp = programmable_cubes_UDP('Enterprise')\n",
    "print(udp.fitness(chromosome))\n",
    "\n",
    "# Create submission file\n",
    "create_submission(\"spoc-3-programmable-cubes\",\"enterprise\", chromosome,\"submission_file.json\",\"submission_name\",\"submission_description\")"
   ]
  },
  {
   "cell_type": "markdown",
   "id": "117840da",
   "metadata": {},
   "source": [
    "##### Note: the random chromosomes generated here are NOT competitive solutions!"
   ]
  }
 ],
 "metadata": {
  "kernelspec": {
   "display_name": "Python 3 (ipykernel)",
   "language": "python",
   "name": "python3"
  },
  "language_info": {
   "codemirror_mode": {
    "name": "ipython",
    "version": 3
   },
   "file_extension": ".py",
   "mimetype": "text/x-python",
   "name": "python",
   "nbconvert_exporter": "python",
   "pygments_lexer": "ipython3",
   "version": "3.8.8"
  }
 },
 "nbformat": 4,
 "nbformat_minor": 5
}
