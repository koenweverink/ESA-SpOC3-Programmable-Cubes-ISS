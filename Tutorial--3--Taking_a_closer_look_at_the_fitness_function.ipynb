{
 "cells": [
  {
   "cell_type": "markdown",
   "id": "e816daaa",
   "metadata": {},
   "source": [
    "The fitness function can be found in the UDP file (*fitness_function*). In the following, we will have a closer look at it, explain its arguments, and show-case how to create a custom fitness function.\n",
    "\n",
    "The fitness function looks as follows:"
   ]
  },
  {
   "cell_type": "code",
   "execution_count": null,
   "id": "38b907c7",
   "metadata": {},
   "outputs": [],
   "source": [
    "ALPHA = 0.1\n",
    "BETA = 1 - ALPHA\n",
    "def fitness_function(cube_ensemble, steps_fraction, offset, num_cube_types, init_cube_types, target_cube_types, target_cubes):\n",
    "    '''\n",
    "    Fitness function used to evaluate a chromosome.\n",
    "\n",
    "    Measures how well the final cube configuration fits the target configuration.\n",
    "    Takes also into account how fast the final cube configuration has been reached (i.e., the number of pivoting operations)!\n",
    "    Note: cubes of the same type are interchangable without affecting the fitness.\n",
    "\n",
    "    Args:\n",
    "        cube_ensemble: the ProgrammableCubes Object containing the cube positions.\n",
    "        steps_fraction: number of pivots required divided by number of maximum pivots allowed.\n",
    "        num_cube_types: number of different cube types.\n",
    "        init_cube_types: list containing cube type of each initial cube. Sorted the same way as initial cube positions.\n",
    "        cube_types: list containing cube type of each target cube. Sorted the same way as target cube positions.\n",
    "        target_cubes: list of target cube positions. \n",
    "    Returns:\n",
    "        score: fitness of the chromosome (float)\n",
    "    '''\n",
    "    num_correct_cubes = 0\n",
    "    num_total_cubes = len(cube_ensemble.cube_position)\n",
    "    for types in range(num_cube_types):\n",
    "        target_list = target_cubes[target_cube_types==types].tolist()\n",
    "        final_list = cube_ensemble.cube_position[init_cube_types==types].tolist()\n",
    "        overlap = [cube in final_list for cube in target_list]\n",
    "        num_correct_cubes += np.sum(overlap)\n",
    "    cube_fraction = num_correct_cubes / num_total_cubes\n",
    "    score = BETA * cube_fraction + ALPHA * (1-steps_fraction)\n",
    "    score = (score-offset)/(1-offset)\n",
    "    \n",
    "    return score"
   ]
  },
  {
   "cell_type": "markdown",
   "id": "0512c6d8",
   "metadata": {},
   "source": [
    "*init_cube_types*, *target_cube_types*, and *target_cubes* are all provided in the data folders. For instance, for the ISS:"
   ]
  },
  {
   "cell_type": "code",
   "execution_count": 3,
   "id": "214a05fa",
   "metadata": {},
   "outputs": [],
   "source": [
    "import numpy as np\n",
    "init_cube_types = np.load('./data/ISS/Initial_Cube_Types.npy')\n",
    "target_cube_types = np.load('./data/ISS/Target_Cube_Types.npy')\n",
    "target_cubes = np.load('./data/ISS/Target_Config.npy')"
   ]
  },
  {
   "cell_type": "markdown",
   "id": "a91441bb",
   "metadata": {},
   "source": [
    "*offset* and *num_cube_types* are obtained from the json file of the problem:"
   ]
  },
  {
   "cell_type": "code",
   "execution_count": 4,
   "id": "1a59da61",
   "metadata": {},
   "outputs": [],
   "source": [
    "import json\n",
    "with open('./problems/ISS.json', 'r') as infile:\n",
    "    problem_file = json.load(infile)\n",
    "offset = problem_file['fitness_offset']\n",
    "num_cube_types = problem_file['num_cube_types']"
   ]
  },
  {
   "cell_type": "markdown",
   "id": "67c8c052",
   "metadata": {},
   "source": [
    "*cube_ensemble* is your ProgrammableCubes object instance (after applying the chromosome), and *steps_fraction* is obtained from the effective length of your chromosome:"
   ]
  },
  {
   "cell_type": "code",
   "execution_count": 12,
   "id": "0376e326",
   "metadata": {},
   "outputs": [],
   "source": [
    "chromosome = np.array([0,1,20,3,-1, 0, 0, 0, -1])\n",
    "\n",
    "steps_needed = int(np.where(chromosome == -1)[0][0]/2)\n",
    "max_length = problem_file['max_cmds']\n",
    "\n",
    "steps_fraction = steps_needed/max_length"
   ]
  },
  {
   "cell_type": "markdown",
   "id": "72eb0c2d",
   "metadata": {},
   "source": [
    "#### Creating custom fitness functions\n",
    "\n",
    "You might want to tweak the fitness function during optimization. The following loss function is an example of a customized fitness that can be used in isolation with a ProgrammableCubes object instance. It only returns the fraction of cubes that are in the right place. \n",
    "\n",
    "You can also replace the fitness function in the UDP file; however, in this case, you will have to use the same argument structure as the original function for it to work! Do not forget to change it back to obtain the score you would receive on optimize!"
   ]
  },
  {
   "cell_type": "code",
   "execution_count": 8,
   "id": "43125b08",
   "metadata": {},
   "outputs": [],
   "source": [
    "def custom_fitness_function(cube_ensemble, problem = 'ISS'):\n",
    "    # Load some stuff\n",
    "    with open('./problems/{}.json'.format(problem), 'r') as infile:\n",
    "        num_cube_types = json.load(infile)['num_cube_types']\n",
    "    init_cube_types = np.load('./data/{}/Initial_Cube_Types.npy'.format(problem))\n",
    "    target_cube_types = np.load('./data/{}/Target_Cube_Types.npy'.format(problem))\n",
    "    target_cubes = np.load('./data/{}/Target_Config.npy'.format(problem))\n",
    "    \n",
    "    # Calculate cube overlap with target configuration\n",
    "    num_correct_cubes = 0\n",
    "    num_total_cubes = len(cube_ensemble.cube_position)\n",
    "    for types in range(num_cube_types):\n",
    "        target_list = target_cubes[target_cube_types==types].tolist()\n",
    "        final_list = cube_ensemble.cube_position[init_cube_types==types].tolist()\n",
    "        overlap = [cube in final_list for cube in target_list]\n",
    "        num_correct_cubes += np.sum(overlap)\n",
    "    cube_fraction = num_correct_cubes / num_total_cubes\n",
    "    \n",
    "    # calculate the score\n",
    "    score = cube_fraction\n",
    "    \n",
    "    return score"
   ]
  },
  {
   "cell_type": "markdown",
   "id": "e5f65657",
   "metadata": {},
   "source": [
    "For simplicity, you could also split the part calculating the cube overlap and the actual score in two separate functions."
   ]
  },
  {
   "cell_type": "markdown",
   "id": "17f894d4",
   "metadata": {},
   "source": [
    "Lets test our custom fitness function :)"
   ]
  },
  {
   "cell_type": "code",
   "execution_count": 11,
   "id": "90095686",
   "metadata": {},
   "outputs": [
    {
     "data": {
      "text/plain": [
       "0.13513513513513514"
      ]
     },
     "execution_count": 11,
     "metadata": {},
     "output_type": "execute_result"
    }
   ],
   "source": [
    "from programmable_cubes_UDP import ProgrammableCubes\n",
    "\n",
    "# simple function for creating a random chromosome\n",
    "def create_random_chromosome():\n",
    "    chrom = []\n",
    "    for i in range(6000):\n",
    "        # select a cube randomly\n",
    "        cube_id = np.random.randint(148)\n",
    "        # select a maneuver randomly\n",
    "        move = np.random.randint(6)\n",
    "        \n",
    "        # add command to chromosome\n",
    "        chrom += [cube_id, move]\n",
    "    # chromosome always ends with -1\n",
    "    chrom += [-1]\n",
    "    return np.array(chrom)\n",
    "\n",
    "# create a random chromosome\n",
    "chromosome = create_random_chromosome()\n",
    "\n",
    "# load the start configuration\n",
    "initial_configuration = np.load('./data/ISS/Initial_Config.npy')\n",
    "\n",
    "# Create the cube ensemble with an initial cube configuration.\n",
    "cubes = ProgrammableCubes(initial_configuration)\n",
    "\n",
    "# Roll-out the command sequence and calculate the final fitness.\n",
    "steps_needed = cubes.apply_chromosome(chromosome, verbose = False)\n",
    "\n",
    "# Calculate the custom fitness\n",
    "custom_fitness_function(cubes, 'ISS')"
   ]
  },
  {
   "cell_type": "markdown",
   "id": "772917fb",
   "metadata": {},
   "source": [
    "##### For fitness evaluation on optimize, only the score returned by the fitness function provided in the UDP (and documented on optimize) counts!"
   ]
  }
 ],
 "metadata": {
  "kernelspec": {
   "display_name": "Python 3 (ipykernel)",
   "language": "python",
   "name": "python3"
  },
  "language_info": {
   "codemirror_mode": {
    "name": "ipython",
    "version": 3
   },
   "file_extension": ".py",
   "mimetype": "text/x-python",
   "name": "python",
   "nbconvert_exporter": "python",
   "pygments_lexer": "ipython3",
   "version": "3.8.8"
  }
 },
 "nbformat": 4,
 "nbformat_minor": 5
}
